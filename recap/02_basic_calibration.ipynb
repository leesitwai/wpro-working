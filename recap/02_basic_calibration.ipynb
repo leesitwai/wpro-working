{
  "cells": [
    {
      "cell_type": "code",
      "execution_count": null,
      "id": "902adde5-a16b-466b-a5dd-e3d3a6e245de",
      "metadata": {
        "id": "902adde5-a16b-466b-a5dd-e3d3a6e245de"
      },
      "outputs": [],
      "source": [
        "# If running from Colab, please uncomment and run the following cell to get summer installed.\n",
        "# !pip install summerepi2==1.3.5 estival==0.5.1"
      ]
    },
    {
      "cell_type": "code",
      "source": [
        "# This is required for pymc parallel evaluation in notebooks\n",
        "import multiprocessing as mp\n",
        "import platform\n",
        "\n",
        "if platform.system() != \"Windows\":\n",
        "    mp.set_start_method('forkserver')"
      ],
      "metadata": {
        "id": "-BiwKlhZRTnv"
      },
      "id": "-BiwKlhZRTnv",
      "execution_count": null,
      "outputs": []
    },
    {
      "cell_type": "code",
      "execution_count": null,
      "id": "2ee518db-c746-4aef-ad20-e01c95431d0c",
      "metadata": {
        "id": "2ee518db-c746-4aef-ad20-e01c95431d0c"
      },
      "outputs": [],
      "source": [
        "# Basic imports for summer2 compartmental modelling\n",
        "import numpy as np\n",
        "import pandas as pd\n",
        "from datetime import datetime\n",
        "from summer2 import CompartmentalModel\n",
        "from summer2.parameters import Parameter\n",
        "pd.options.plotting.backend = 'plotly'"
      ]
    },
    {
      "cell_type": "code",
      "source": [
        "# Estival is our calibration/optimization framework - for connecting models and parameters to data\n",
        "# The following imports are the 'building blocks' of estival models\n",
        "\n",
        "# Targets represent data we are trying to fit to\n",
        "from estival import targets as est\n",
        "\n",
        "# We specify parameters using (Bayesian) priors\n",
        "from estival import priors as esp\n",
        "\n",
        "# Finally we combine these with our summer2 model in a BayesianCompartmentalModel (BCM)\n",
        "from estival.model import BayesianCompartmentalModel"
      ],
      "metadata": {
        "id": "gjYhOn9TRd3p"
      },
      "id": "gjYhOn9TRd3p",
      "execution_count": null,
      "outputs": []
    },
    {
      "cell_type": "code",
      "source": [
        "# PyMC imports - PyMC is a widely used probabilistic programming framework for Python\n",
        "from estival.wrappers import pymc as epm\n",
        "import pymc as pm"
      ],
      "metadata": {
        "id": "rR0o8VeURfP3"
      },
      "id": "rR0o8VeURfP3",
      "execution_count": null,
      "outputs": []
    },
    {
      "cell_type": "markdown",
      "id": "e7a864e4-8072-4f55-8b81-c93dec5cc98c",
      "metadata": {
        "id": "e7a864e4-8072-4f55-8b81-c93dec5cc98c"
      },
      "source": [
        "## Model construction and execution\n",
        "The following cells constitute the epidemiological analysis of this notebook.\n",
        "The code is intended to be very simple and adaptable.\n",
        "Please feel free to adjust any of the data sources or parameters,\n",
        "which is the purpose of this notebook.\n",
        "### Country selection\n",
        "First choose your country using it's ISO code,\n",
        "with options only available for Malaysia, the Philippines and Vietnam.\n",
        "This will determine the Our World in Data (OWID) case data\n",
        "that can be used to compare your model results against.\n",
        "You can use our approximate estimate of the total population of the country,\n",
        "or replace the value as per your preference.\n",
        "### Dates\n",
        "Feel free to edit the datetime objects that specify\n",
        "the start and end dates for the analysis, the reference (\"zero\") date\n",
        "and the left limit for the x-axis in the final plot.\n",
        "### Model\n",
        "The model is a parameterised summer2 SEIR model\n",
        "with frequency-dependent transmission and\n",
        "partial observation of incidence (termed notifications).\n",
        "### Results\n",
        "The SEIR model provides a poor-to-moderate fit to the target data\n",
        "for the Omicron waves in each of the three countries.\n",
        "Please adjust parameters and dates to achieve a better fit for your country."
      ]
    },
    {
      "cell_type": "code",
      "execution_count": null,
      "id": "d25c9c93-db55-4a04-b1dd-522727309b4e",
      "metadata": {
        "id": "d25c9c93-db55-4a04-b1dd-522727309b4e"
      },
      "outputs": [],
      "source": [
        "iso = 'MYS'"
      ]
    },
    {
      "cell_type": "code",
      "execution_count": null,
      "id": "8ebb562f-4915-4755-a698-3592eefdd456",
      "metadata": {
        "id": "8ebb562f-4915-4755-a698-3592eefdd456"
      },
      "outputs": [],
      "source": [
        "cases_data = pd.read_csv('https://github.com/monash-emu/wpro_working/raw/main/data/new_cases.csv', index_col=0)[iso]\n",
        "cases_data.index = pd.to_datetime(cases_data.index)\n",
        "approx_pops = {\n",
        "    'MYS': 33e6,\n",
        "    'PHL': 114e6,\n",
        "    'VNM': 97e6,\n",
        "}"
      ]
    },
    {
      "cell_type": "code",
      "execution_count": null,
      "id": "4a8d1689-adf2-4bb5-8cb0-a04dbb4b0e8f",
      "metadata": {
        "id": "4a8d1689-adf2-4bb5-8cb0-a04dbb4b0e8f"
      },
      "outputs": [],
      "source": [
        "analysis_start_date = datetime(2022, 1, 1)\n",
        "analysis_end_date = datetime(2022, 6, 1)\n",
        "epi_model = CompartmentalModel(\n",
        "    [analysis_start_date, analysis_end_date],\n",
        "    ['susceptible', 'exposed', 'infectious', 'recovered'],\n",
        "    ['infectious'],\n",
        "    ref_date=datetime(2019, 12, 31),\n",
        ")\n",
        "epi_model.add_infection_frequency_flow('infection', Parameter('contact_rate'), 'susceptible', 'exposed')\n",
        "epi_model.add_transition_flow('progression', 1.0 / Parameter('incubation_period'), 'exposed', 'infectious')\n",
        "epi_model.add_transition_flow('recovery', 1.0 / Parameter('infectious_period'), 'infectious', 'recovered')\n",
        "epi_model.set_initial_population({'susceptible': approx_pops[iso], 'infectious': Parameter('initial_infected')})\n",
        "incidence = epi_model.request_output_for_flow('incidence', 'progression', save_results=False)\n",
        "epi_model.request_function_output('notifications', incidence * Parameter('detection_prop'));"
      ]
    },
    {
      "cell_type": "code",
      "execution_count": null,
      "id": "de7eec55-c205-4960-b2df-b6bef6bf11ea",
      "metadata": {
        "id": "de7eec55-c205-4960-b2df-b6bef6bf11ea"
      },
      "outputs": [],
      "source": [
        "parameters = {\n",
        "    'contact_rate': 0.4,\n",
        "    'incubation_period': 5.0,\n",
        "    'infectious_period': 5.0,\n",
        "    'detection_prop': 0.07,\n",
        "    'initial_infected': 100000.0,\n",
        "}\n",
        "epi_model.run(parameters)"
      ]
    },
    {
      "cell_type": "code",
      "execution_count": null,
      "id": "3366ae44-aa83-4779-9bba-0e2c106840c4",
      "metadata": {
        "id": "3366ae44-aa83-4779-9bba-0e2c106840c4"
      },
      "outputs": [],
      "source": [
        "plot_start_date = datetime(2021, 10, 1)\n",
        "comparison_df = pd.concat([epi_model.get_derived_outputs_df(), cases_data])\n",
        "comparison_df.columns = ['modelled', 'reported']\n",
        "comparison_plot = comparison_df.plot()\n",
        "comparison_plot.update_xaxes(range=(plot_start_date, analysis_end_date))"
      ]
    },
    {
      "cell_type": "code",
      "source": [
        "# Select a subset of the data which will be used for model evaluation during calibration\n",
        "cases_data_select = cases_data[\"jan 2022\":\"may 2022\"]\n",
        "cases_data_select.plot()"
      ],
      "metadata": {
        "id": "JzooCWlNUgxm"
      },
      "id": "JzooCWlNUgxm",
      "execution_count": null,
      "outputs": []
    },
    {
      "cell_type": "code",
      "source": [
        "# Describe a 'target'; some observed data against which the model will be evaluated\n",
        "# (and a description of how this evaluation will be performed)\n",
        "targets = [\n",
        "    est.TruncatedNormalTarget(\"notifications\", cases_data_select, (0.0,np.inf),\n",
        "        esp.UniformPrior(\"notifications_dispersion\",(0.1, cases_data_select.max()*0.1)))\n",
        "]"
      ],
      "metadata": {
        "id": "2AQXMWO9RsuN"
      },
      "id": "2AQXMWO9RsuN",
      "execution_count": null,
      "outputs": []
    },
    {
      "cell_type": "code",
      "source": [
        "# Describe priors - the ranges (and statistical distributions) of what we believe\n",
        "# the parameters might (or should) be\n",
        "priors = [\n",
        "    esp.UniformPrior(\"contact_rate\", (0.01,1.0)),\n",
        "    esp.TruncNormalPrior(\"incubation_period\", 5.0,1.0, (1.0,10.0)),\n",
        "    esp.TruncNormalPrior(\"infectious_period\", 5.0,1.0, (1.0,10.0)),\n",
        "    esp.UniformPrior(\"detection_prop\", (0.01,0.5)),\n",
        "]"
      ],
      "metadata": {
        "id": "73yN6GulR_w3"
      },
      "id": "73yN6GulR_w3",
      "execution_count": null,
      "outputs": []
    },
    {
      "cell_type": "code",
      "source": [
        "# The BayesianCompartmentalModel class is the primary entry point to all optimization and calibration\n",
        "# methods in estival\n",
        "# It takes a CompartmentalModel object, default parameters, priors, and targets\n",
        "# The default parameters will be used as fixed values when no prior is specified for a given parameter\n",
        "\n",
        "bcm = BayesianCompartmentalModel(epi_model, parameters, priors, targets)"
      ],
      "metadata": {
        "id": "DtOLJqI6SkU_"
      },
      "id": "DtOLJqI6SkU_",
      "execution_count": null,
      "outputs": []
    },
    {
      "cell_type": "code",
      "source": [
        "with pm.Model() as model:\n",
        "\n",
        "    # This is all you need - a single call to use_model\n",
        "    variables = epm.use_model(bcm)\n",
        "\n",
        "    # Now call a sampler using the variables from use_model\n",
        "    # In this case we use the Differential Evolution Metropolis(Z) sampler\n",
        "    # See the PyMC docs for more details\n",
        "    idata = pm.sample(step=[pm.DEMetropolisZ(variables)], draws=4000, tune=2000,cores=4,chains=4)"
      ],
      "metadata": {
        "id": "wWJuQ36XRnN1"
      },
      "id": "wWJuQ36XRnN1",
      "execution_count": null,
      "outputs": []
    },
    {
      "cell_type": "code",
      "source": [
        "# Arviz is a library for examining MCMC outputs and producing plots/summary statistics/wrangling data\n",
        "# It supports a variety of frameworks (including PyMC, which we use above for producing our samples)\n",
        "\n",
        "import arviz as az"
      ],
      "metadata": {
        "id": "58EzGY0DSugU"
      },
      "id": "58EzGY0DSugU",
      "execution_count": null,
      "outputs": []
    },
    {
      "cell_type": "code",
      "source": [
        "# Get summary stats for the calibration\n",
        "# These are useful to give a rough assessment of the quality of the outputs\n",
        "az.summary(idata)"
      ],
      "metadata": {
        "id": "40N7AFzQTTU4"
      },
      "id": "40N7AFzQTTU4",
      "execution_count": null,
      "outputs": []
    },
    {
      "cell_type": "code",
      "source": [
        "# Plot the traces (the values of the parameters at each iteration)\n",
        "az.plot_trace(idata, figsize=(16,3.2*len(idata.posterior)),compact=False);"
      ],
      "metadata": {
        "id": "2yKz4yA9TV1w"
      },
      "id": "2yKz4yA9TV1w",
      "execution_count": null,
      "outputs": []
    },
    {
      "cell_type": "code",
      "source": [
        "# Use the arviz extract method to obtain some samples\n",
        "sample_idata = az.extract(idata, num_samples = 100)"
      ],
      "metadata": {
        "id": "JOg7Mac9TeiN"
      },
      "id": "JOg7Mac9TeiN",
      "execution_count": null,
      "outputs": []
    },
    {
      "cell_type": "code",
      "source": [
        "# Estival includes a variety of tools for working with parameter sets\n",
        "from estival.sampling import tools as esamptools"
      ],
      "metadata": {
        "id": "b4_9oO_pTr5v"
      },
      "id": "b4_9oO_pTr5v",
      "execution_count": null,
      "outputs": []
    },
    {
      "cell_type": "code",
      "source": [
        "# Get the modelled results for our sampled parameters\n",
        "mres = esamptools.model_results_for_samples(sample_idata, bcm)"
      ],
      "metadata": {
        "id": "eQrRBDkFTug3"
      },
      "id": "eQrRBDkFTug3",
      "execution_count": null,
      "outputs": []
    },
    {
      "cell_type": "code",
      "source": [
        "# Plot the uncertainty quantiles of the above sampled model results, against case data\n",
        "pd.options.plotting.backend=\"matplotlib\"\n",
        "esamptools.quantiles_for_results(mres.results,[0.01,0.25,0.5,0.75,0.99])[\"notifications\"].plot()\n",
        "cases_data_select.plot(style='.',color='black')"
      ],
      "metadata": {
        "id": "F9ANmRJ5UAGw"
      },
      "id": "F9ANmRJ5UAGw",
      "execution_count": null,
      "outputs": []
    }
  ],
  "metadata": {
    "kernelspec": {
      "display_name": "Python 3 (ipykernel)",
      "language": "python",
      "name": "python3"
    },
    "language_info": {
      "codemirror_mode": {
        "name": "ipython",
        "version": 3
      },
      "file_extension": ".py",
      "mimetype": "text/x-python",
      "name": "python",
      "nbconvert_exporter": "python",
      "pygments_lexer": "ipython3",
      "version": "3.10.11"
    },
    "colab": {
      "provenance": []
    }
  },
  "nbformat": 4,
  "nbformat_minor": 5
}
