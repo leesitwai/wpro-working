{
 "cells": [
  {
   "cell_type": "code",
   "execution_count": null,
   "id": "2ee518db-c746-4aef-ad20-e01c95431d0c",
   "metadata": {},
   "outputs": [],
   "source": [
    "import pandas as pd\n",
    "from datetime import datetime\n",
    "from constants import PROJECT_PATH\n",
    "from summer2 import CompartmentalModel\n",
    "from summer2.parameters import Parameter, DerivedOutput\n",
    "pd.options.plotting.backend = 'plotly'"
   ]
  },
  {
   "cell_type": "code",
   "execution_count": null,
   "id": "d25c9c93-db55-4a04-b1dd-522727309b4e",
   "metadata": {},
   "outputs": [],
   "source": [
    "iso = 'PHL'"
   ]
  },
  {
   "cell_type": "code",
   "execution_count": null,
   "id": "8ebb562f-4915-4755-a698-3592eefdd456",
   "metadata": {},
   "outputs": [],
   "source": [
    "cases_data = pd.read_csv(PROJECT_PATH / 'data/new_cases.csv', index_col=0)[iso]\n",
    "cases_data.index = pd.to_datetime(cases_data.index)\n",
    "approx_pops = {\n",
    "    'MYS': 33e6,\n",
    "    'PHL': 114e6,\n",
    "    'VNM': 97e6,\n",
    "}"
   ]
  },
  {
   "cell_type": "code",
   "execution_count": null,
   "id": "4a8d1689-adf2-4bb5-8cb0-a04dbb4b0e8f",
   "metadata": {},
   "outputs": [],
   "source": [
    "analysis_start_date = datetime(2021, 8, 1) \n",
    "analysis_end_date = datetime(2022, 6, 1)\n",
    "epi_model = CompartmentalModel(\n",
    "    [analysis_start_date, analysis_end_date],\n",
    "    ['susceptible', 'exposed', 'infectious', 'recovered'],\n",
    "    ['infectious'],\n",
    "    ref_date=datetime(2019, 12, 31),\n",
    ")\n",
    "epi_model.add_infection_frequency_flow('infection', Parameter('contact_rate'), 'susceptible', 'exposed')\n",
    "epi_model.add_transition_flow('progression', 1.0 / Parameter('incubation_period'), 'exposed', 'infectious')\n",
    "epi_model.add_transition_flow('recovery', 1.0 / Parameter('infectious_period'), 'infectious', 'recovered')\n",
    "epi_model.set_initial_population({'susceptible': approx_pops[iso], 'infectious': 1.0})\n",
    "epi_model.request_output_for_flow('incidence', 'progression', save_results=False)\n",
    "epi_model.request_function_output('notifications', DerivedOutput('incidence') * Parameter('detection_prop'));"
   ]
  },
  {
   "cell_type": "code",
   "execution_count": null,
   "id": "de7eec55-c205-4960-b2df-b6bef6bf11ea",
   "metadata": {},
   "outputs": [],
   "source": [
    "parameters = {\n",
    "    'contact_rate': 0.4,\n",
    "    'incubation_period': 5.0,\n",
    "    'infectious_period': 5.0,\n",
    "    'detection_prop': 0.07,\n",
    "}\n",
    "epi_model.run(parameters)"
   ]
  },
  {
   "cell_type": "code",
   "execution_count": null,
   "id": "3366ae44-aa83-4779-9bba-0e2c106840c4",
   "metadata": {},
   "outputs": [],
   "source": [
    "plot_start_date = datetime(2021, 10, 1)\n",
    "comparison_df = pd.concat([epi_model.get_derived_outputs_df(), cases_data])\n",
    "comparison_df.columns = ['modelled', 'reported']\n",
    "comparison_plot = comparison_df.plot()\n",
    "comparison_plot.update_xaxes(range=(plot_start_date, analysis_end_date))"
   ]
  }
 ],
 "metadata": {
  "kernelspec": {
   "display_name": "Python 3 (ipykernel)",
   "language": "python",
   "name": "python3"
  },
  "language_info": {
   "codemirror_mode": {
    "name": "ipython",
    "version": 3
   },
   "file_extension": ".py",
   "mimetype": "text/x-python",
   "name": "python",
   "nbconvert_exporter": "python",
   "pygments_lexer": "ipython3",
   "version": "3.10.11"
  }
 },
 "nbformat": 4,
 "nbformat_minor": 5
}
