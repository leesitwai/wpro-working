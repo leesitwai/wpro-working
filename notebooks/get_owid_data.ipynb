{
 "cells": [
  {
   "cell_type": "code",
   "execution_count": null,
   "id": "00d041c5-b118-4481-89f3-223a7da4c6a0",
   "metadata": {},
   "outputs": [],
   "source": [
    "import pandas as pd\n",
    "from typing import Union, List"
   ]
  },
  {
   "cell_type": "code",
   "execution_count": null,
   "id": "8aae66d6-684b-403d-aeca-b57bb16538e0",
   "metadata": {},
   "outputs": [],
   "source": [
    "def get_country_owid_data(\n",
    "    country_iso: str, \n",
    "    indicators: Union[str, List[str]],\n",
    ") -> pd.DataFrame:\n",
    "    data = pd.read_csv('https://covid.ourworldindata.org/data/owid-covid-data.csv', index_col='date', low_memory=False)\n",
    "    data.index = pd.to_datetime(data.index)\n",
    "    return data[data['iso_code'] == country_iso][indicators]"
   ]
  },
  {
   "cell_type": "code",
   "execution_count": null,
   "id": "64280fc8-d9d9-45b3-ace5-8a76609271c6",
   "metadata": {},
   "outputs": [],
   "source": [
    "case_data = pd.DataFrame()"
   ]
  },
  {
   "cell_type": "code",
   "execution_count": null,
   "id": "917fb03a-3217-48de-97ae-da9d413221e3",
   "metadata": {},
   "outputs": [],
   "source": [
    "case_data['MYS'] = get_country_owid_data('MYS', 'new_cases')"
   ]
  }
 ],
 "metadata": {
  "kernelspec": {
   "display_name": "Python 3 (ipykernel)",
   "language": "python",
   "name": "python3"
  },
  "language_info": {
   "codemirror_mode": {
    "name": "ipython",
    "version": 3
   },
   "file_extension": ".py",
   "mimetype": "text/x-python",
   "name": "python",
   "nbconvert_exporter": "python",
   "pygments_lexer": "ipython3",
   "version": "3.10.11"
  }
 },
 "nbformat": 4,
 "nbformat_minor": 5
}
