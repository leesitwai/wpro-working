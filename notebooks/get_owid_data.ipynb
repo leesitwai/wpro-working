{
 "cells": [
  {
   "cell_type": "markdown",
   "id": "5ea0b28a-594a-446d-9e3b-2d21d8f70439",
   "metadata": {},
   "source": [
    "### Populate cases CSV file\n",
    "Notebook not intended to be run itself, \n",
    "but rather shows the code used to generate the CSV stored in the data folder.\n",
    "Can also be adapted to other indicators or countries as required."
   ]
  },
  {
   "cell_type": "code",
   "execution_count": 1,
   "id": "33fbefa5-6626-49c1-ac88-01646de91766",
   "metadata": {},
   "outputs": [],
   "source": [
    "import os\n",
    "import sys\n",
    "import pandas as pd\n",
    "sys.path.append(os.path.relpath('../'))\n",
    "from constants import PROJECT_PATH\n",
    "from inputs.owid import load_country_owid_data"
   ]
  },
  {
   "cell_type": "code",
   "execution_count": 2,
   "id": "917fb03a-3217-48de-97ae-da9d413221e3",
   "metadata": {},
   "outputs": [],
   "source": [
    "indicator = 'new_cases'\n",
    "countries = ['MYS', 'VNM', 'PHL']\n",
    "case_data = pd.DataFrame()\n",
    "for iso in countries:\n",
    "    case_data[iso] = load_country_owid_data(iso, indicator)\n",
    "case_data.to_csv(PROJECT_PATH / f'data/{indicator}.csv')"
   ]
  }
 ],
 "metadata": {
  "kernelspec": {
   "display_name": "Python 3 (ipykernel)",
   "language": "python",
   "name": "python3"
  },
  "language_info": {
   "codemirror_mode": {
    "name": "ipython",
    "version": 3
   },
   "file_extension": ".py",
   "mimetype": "text/x-python",
   "name": "python",
   "nbconvert_exporter": "python",
   "pygments_lexer": "ipython3",
   "version": "3.10.0"
  }
 },
 "nbformat": 4,
 "nbformat_minor": 5
}
