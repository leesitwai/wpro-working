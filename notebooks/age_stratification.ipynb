{
 "cells": [
  {
   "cell_type": "markdown",
   "id": "1fe7a30e-eefe-4e03-b915-0e320244ba26",
   "metadata": {},
   "source": [
    "### Standard preamble\n",
    "Please run the following three cells to get the environment set up \n",
    "and the necessary packages installed.\n",
    "After running the first cell, you will need to \"Restart Runtime\"\n",
    "as per the message prompt that will appear.\n",
    "After that, proceed to run the second and third code cells below."
   ]
  },
  {
   "cell_type": "code",
   "execution_count": null,
   "id": "04fda27a-11c4-4f2b-8502-3553f0f0dc76",
   "metadata": {},
   "outputs": [],
   "source": [
    "# !pip uninstall numba -y\n",
    "# !pip uninstall librosa -y\n",
    "# !pip install estival==0.4.9 numpy==1.24.3 kaleido"
   ]
  },
  {
   "cell_type": "code",
   "execution_count": null,
   "id": "a6ca9cea-5c71-411f-8974-234fa1d1bbf7",
   "metadata": {},
   "outputs": [],
   "source": [
    "try:\n",
    "    import google.colab\n",
    "    ! git clone https://github.com/monash-emu/WPRO_wip.git --branch main\n",
    "    %cd WPRO_wip\n",
    "    %pip install -e ./\n",
    "except:\n",
    "    pass"
   ]
  },
  {
   "cell_type": "code",
   "execution_count": null,
   "id": "1dca3a77-a74a-409b-aaff-f5a8292eee9b",
   "metadata": {},
   "outputs": [],
   "source": [
    "import pandas as pd\n",
    "from datetime import datetime\n",
    "from constants import PROJECT_PATH\n",
    "from summer2 import CompartmentalModel\n",
    "from summer2.parameters import Parameter, DerivedOutput\n",
    "pd.options.plotting.backend = 'plotly'"
   ]
  },
  {
   "cell_type": "markdown",
   "id": "d3d8da55-f42d-4a35-91de-effae11fb2b0",
   "metadata": {},
   "source": [
    "## Epidemiological explanation\n",
    "This is incomplete"
   ]
  },
  {
   "cell_type": "code",
   "execution_count": null,
   "id": "d4902c6f-8565-4c23-8abf-b9ae9bcd4510",
   "metadata": {},
   "outputs": [],
   "source": [
    "iso = 'MYS'"
   ]
  },
  {
   "cell_type": "code",
   "execution_count": null,
   "id": "d239f81c-548b-40fc-9988-17665f085cd1",
   "metadata": {},
   "outputs": [],
   "source": [
    "deaths_data = pd.read_csv(PROJECT_PATH / 'data/new_deaths.csv', index_col=0)[iso]\n",
    "deaths_data.index = pd.to_datetime(deaths_data.index)\n",
    "approx_pops = {\n",
    "    'MYS': 33e6,\n",
    "    'PHL': 114e6,\n",
    "    'VNM': 97e6,\n",
    "}"
   ]
  },
  {
   "cell_type": "code",
   "execution_count": null,
   "id": "4f966dc0-83b8-460d-a031-8a90a9fed724",
   "metadata": {},
   "outputs": [],
   "source": [
    "analysis_start_date = datetime(2021, 8, 1) \n",
    "analysis_end_date = datetime(2022, 6, 1)\n",
    "epi_model = CompartmentalModel(\n",
    "    [analysis_start_date, analysis_end_date],\n",
    "    ['susceptible', 'exposed', 'infectious', 'recovered'],\n",
    "    ['infectious'],\n",
    "    ref_date=datetime(2019, 12, 31),\n",
    ")\n",
    "epi_model.add_infection_frequency_flow('infection', Parameter('contact_rate'), 'susceptible', 'exposed')\n",
    "epi_model.add_transition_flow('progression', 1.0 / Parameter('incubation_period'), 'exposed', 'infectious')\n",
    "epi_model.add_transition_flow('recovery', 1.0 / Parameter('infectious_period'), 'infectious', 'recovered')\n",
    "epi_model.set_initial_population({'susceptible': approx_pops[iso], 'infectious': 1.0})\n",
    "epi_model.request_output_for_flow('recovery', 'recovery', save_results=False)\n",
    "epi_model.request_function_output('deaths', DerivedOutput('recovery') * Parameter('ifr'));"
   ]
  },
  {
   "cell_type": "code",
   "execution_count": null,
   "id": "e7658a94-9568-4533-9814-d0c8ca3455e8",
   "metadata": {},
   "outputs": [],
   "source": [
    "parameters = {\n",
    "    'contact_rate': 0.4,\n",
    "    'incubation_period': 5.0,\n",
    "    'infectious_period': 5.0,\n",
    "    'ifr': 0.0002,\n",
    "}\n",
    "epi_model.run(parameters)"
   ]
  },
  {
   "cell_type": "code",
   "execution_count": null,
   "id": "9427b41c-28ff-4252-a5be-297f816a9569",
   "metadata": {},
   "outputs": [],
   "source": [
    "plot_start_date = datetime(2021, 10, 1)\n",
    "comparison_df = pd.concat([epi_model.get_derived_outputs_df(), deaths_data])\n",
    "comparison_df.columns = ['modelled', 'reported']\n",
    "comparison_plot = comparison_df.plot()\n",
    "comparison_plot.update_xaxes(range=(plot_start_date, analysis_end_date))"
   ]
  }
 ],
 "metadata": {
  "kernelspec": {
   "display_name": "Python 3 (ipykernel)",
   "language": "python",
   "name": "python3"
  },
  "language_info": {
   "codemirror_mode": {
    "name": "ipython",
    "version": 3
   },
   "file_extension": ".py",
   "mimetype": "text/x-python",
   "name": "python",
   "nbconvert_exporter": "python",
   "pygments_lexer": "ipython3",
   "version": "3.10.11"
  }
 },
 "nbformat": 4,
 "nbformat_minor": 5
}
